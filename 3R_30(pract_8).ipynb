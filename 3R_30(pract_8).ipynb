{
  "nbformat": 4,
  "nbformat_minor": 0,
  "metadata": {
    "colab": {
      "provenance": [],
      "authorship_tag": "ABX9TyNcZo2PuzH2ZY7OvO4u8dMi",
      "include_colab_link": true
    },
    "kernelspec": {
      "name": "python3",
      "display_name": "Python 3"
    },
    "language_info": {
      "name": "python"
    }
  },
  "cells": [
    {
      "cell_type": "markdown",
      "metadata": {
        "id": "view-in-github",
        "colab_type": "text"
      },
      "source": [
        "<a href=\"https://colab.research.google.com/github/Tanviwasule/devops/blob/main/3R_30(pract_8).ipynb\" target=\"_parent\"><img src=\"https://colab.research.google.com/assets/colab-badge.svg\" alt=\"Open In Colab\"/></a>"
      ]
    },
    {
      "cell_type": "code",
      "execution_count": null,
      "metadata": {
        "colab": {
          "base_uri": "https://localhost:8080/"
        },
        "id": "kOPaVJK9QYB2",
        "outputId": "55dd6dd5-911c-4ca1-a149-5fc3fe673f1b"
      },
      "outputs": [
        {
          "output_type": "stream",
          "name": "stdout",
          "text": [
            "Mean: 3.375\n",
            "Median: 4.5\n",
            "Mode: [5]\n"
          ]
        }
      ],
      "source": [
        "def calculate_mean(numbers):\n",
        "    return sum(numbers) / len(numbers)\n",
        "\n",
        "def calculate_median(numbers):\n",
        "    numbers.sort()\n",
        "    n = len(numbers)\n",
        "    mid = n // 2\n",
        "    if n % 2 == 0:\n",
        "        return (numbers[mid] + numbers[mid+1]) / 2\n",
        "    else:\n",
        "        return numbers[mid]\n",
        "\n",
        "def calculate_mode(numbers):\n",
        "    frequency = {}\n",
        "    for number in numbers:\n",
        "        frequency[number] = frequency.get(number, 0) + 1\n",
        "    max_freq = max(frequency.values())\n",
        "    modes = [num for num, freq in frequency.items() if freq == max_freq]\n",
        "    return modes if len(modes) == 1 else \"No unique mode\"\n",
        "\n",
        "def main():\n",
        "\n",
        "    numbers = [1, 2, 2, 3, 4, 5, 5, 5]\n",
        "\n",
        "    mean_value = calculate_mean(numbers)\n",
        "    median_value = calculate_median(numbers)\n",
        "    mode_value = calculate_mode(numbers)\n",
        "\n",
        "    print(f\"Mean: {mean_value}\")\n",
        "    print(f\"Median: {median_value}\")\n",
        "    print(f\"Mode: {mode_value}\")\n",
        "\n",
        "if __name__ == \"__main__\":\n",
        "    main()\n"
      ]
    },
    {
      "cell_type": "code",
      "source": [
        "import numpy as np\n",
        "\n",
        "def calculate_range(numbers):\n",
        "    return max(numbers) - min(numbers)\n",
        "\n",
        "def calculate_variance(numbers):\n",
        "    mean_value = np.mean(numbers)\n",
        "    return np.mean((numbers - mean_value) ** 2)\n",
        "\n",
        "def calculate_standard_deviation(numbers):\n",
        "    return np.sqrt(calculate_variance(numbers))\n",
        "\n",
        "def calculate_iqr(numbers):\n",
        "    q1 = np.percentile(numbers, 25)\n",
        "    q3 = np.percentile(numbers, 75)\n",
        "    return q3 - q1\n",
        "\n",
        "def main():\n",
        "\n",
        "    numbers_input = input(\"Enter a list of numbers separated by spaces: \")\n",
        "    numbers = np.array(list(map(float, numbers_input.split())))\n",
        "\n",
        "    range_value = calculate_range(numbers)\n",
        "    variance_value = calculate_variance(numbers)\n",
        "    std_deviation_value = calculate_standard_deviation(numbers)\n",
        "    iqr_value = calculate_iqr(numbers)\n",
        "\n",
        "    print(f\"Range: {range_value}\")\n",
        "    print(f\"Variance: {variance_value}\")\n",
        "    print(f\"Standard Deviation: {std_deviation_value}\")\n",
        "    print(f\"Interquartile Range (IQR): {iqr_value}\")\n",
        "\n",
        "if __name__ == \"__main__\":\n",
        "    main()\n"
      ],
      "metadata": {
        "colab": {
          "base_uri": "https://localhost:8080/"
        },
        "id": "D_kfpfvjRahU",
        "outputId": "f33069b8-5f98-40ba-f553-7f9bc5a74aef"
      },
      "execution_count": null,
      "outputs": [
        {
          "output_type": "stream",
          "name": "stdout",
          "text": [
            "Enter a list of numbers separated by spaces: 1 2 3 4 5 6 7 8 9\n",
            "Range: 8.0\n",
            "Variance: 6.666666666666667\n",
            "Standard Deviation: 2.581988897471611\n",
            "Interquartile Range (IQR): 4.0\n"
          ]
        }
      ]
    },
    {
      "cell_type": "code",
      "source": [],
      "metadata": {
        "id": "hWzBpxhmTBTb"
      },
      "execution_count": null,
      "outputs": []
    }
  ]
}